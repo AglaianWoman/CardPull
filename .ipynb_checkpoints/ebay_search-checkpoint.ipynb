{
 "cells": [
  {
   "cell_type": "code",
   "execution_count": 1,
   "metadata": {
    "collapsed": false
   },
   "outputs": [
    {
     "name": "stdout",
     "output_type": "stream",
     "text": [
      "{'ack': 'Success', 'timestamp': '2017-02-21T21:27:51.145Z', 'version': '1.13.0', 'searchResult': {'item': [{'itemId': '172502470800', 'subtitle': 'Part of a live auction event on Saturday, Feb 4', 'globalId': 'EBAY-US', 'title': 'Historic and Important 1996 Brett Favre Jim Thorpe Trophy as MVP of t... Lot 524', 'country': 'US', 'primaryCategory': {'categoryId': '465', 'categoryName': 'Other Fan Apparel & Souvenirs'}, 'autoPay': 'false', 'galleryURL': 'http://thumbs1.ebaystatic.com/m/m5cer43cMsANlaHH64R56-Q/140.jpg', 'shippingInfo': {'expeditedShipping': 'false', 'shippingType': 'FreePickup', 'shipToLocations': 'None', 'oneDayShippingAvailable': 'false', 'shippingServiceCost': {'_currencyId': 'USD', 'value': '0.0'}}, 'location': 'Houston,TX,USA', 'returnsAccepted': 'false', 'postalCode': '77010', 'topRatedListing': 'false', 'viewItemURL': 'http://www.ebay.com/itm/Historic-and-Important-1996-Brett-Favre-Jim-Thorpe-Trophy-MVP-t-Lot-524-/172502470800', 'sellingStatus': {'currentPrice': {'_currencyId': 'USD', 'value': '80000.0'}, 'convertedCurrentPrice': {'_currencyId': 'USD', 'value': '80000.0'}, 'bidCount': '9', 'sellingState': 'Ended'}, 'paymentMethod': 'PaymentSeeDescription', 'isMultiVariationListing': 'false', 'listingInfo': {'listingType': 'Auction', 'gift': 'false', 'bestOfferEnabled': 'false', 'startTime': '2017-01-29T12:00:05.000Z', 'buyItNowAvailable': 'false', 'endTime': '2017-02-05T01:48:06.000Z'}}, {'itemId': '122286816125', 'topRatedListing': 'false', 'globalId': 'EBAY-US', 'title': 'MNF OT WIN Brett Favre Game Worn Used Signed Packers Football Jersey BF LOA HOF', 'country': 'US', 'primaryCategory': {'categoryId': '86829', 'categoryName': 'Jerseys'}, 'autoPay': 'false', 'galleryURL': 'http://thumbs2.ebaystatic.com/m/mRxZk8MDcBmKN682W-J-iWA/140.jpg', 'shippingInfo': {'expeditedShipping': 'false', 'shipToLocations': 'US', 'shippingServiceCost': {'_currencyId': 'USD', 'value': '200.0'}, 'oneDayShippingAvailable': 'false', 'handlingTime': '1', 'shippingType': 'Flat'}, 'location': 'Minocqua,WI,USA', 'postalCode': '54548', 'returnsAccepted': 'false', 'viewItemURL': 'http://www.ebay.com/itm/MNF-OT-WIN-Brett-Favre-Game-Worn-Used-Signed-Packers-Football-Jersey-BF-LOA-HOF-/122286816125', 'sellingStatus': {'currentPrice': {'_currencyId': 'USD', 'value': '40000.0'}, 'convertedCurrentPrice': {'_currencyId': 'USD', 'value': '40000.0'}, 'sellingState': 'Ended'}, 'paymentMethod': 'PayPal', 'isMultiVariationListing': 'false', 'listingInfo': {'listingType': 'FixedPrice', 'gift': 'false', 'bestOfferEnabled': 'true', 'startTime': '2016-12-28T00:00:25.000Z', 'buyItNowAvailable': 'false', 'endTime': '2017-01-27T00:00:25.000Z'}}], '_count': '2'}, 'paginationOutput': {'totalPages': '17335', 'entriesPerPage': '2', 'pageNumber': '1', 'totalEntries': '34670'}}\n"
     ]
    }
   ],
   "source": [
    "#########################\n",
    "# Basic finding example #\n",
    "#########################\n",
    "from ebaysdk.finding import Connection as Finding\n",
    "from ebaysdk.exception import ConnectionError\n",
    "try:\n",
    "    \n",
    "    api = Finding(config_file='ebay.yaml')\n",
    "    #api = Finding(appid=\"RafaelCo-hellowor-PRD-c45f64428-43fbf33e\", config_file=None)\n",
    "    response = api.execute('findCompletedItems', {\n",
    "        'keywords': 'Brett Favre',\n",
    "        'paginationInput': {\n",
    "            'entriesPerPage': '2',\n",
    "            'pageNumber': '1'},\n",
    "        'sortOrder': 'CurrentPriceHighest'\n",
    "        })\n",
    "\n",
    "    #response = api.execute('findItemsAdvanced', {'keywords': 'Brett Favre'})\n",
    "    \n",
    "    print(response.dict())\n",
    "except ConnectionError as e:\n",
    "    print(e)\n",
    "    print(e.response.dict())\n"
   ]
  },
  {
   "cell_type": "code",
   "execution_count": 4,
   "metadata": {
    "collapsed": false
   },
   "outputs": [],
   "source": [
    "import numpy as np\n",
    "#np.savetxt(\"search.csv\", e.response.dict())\n",
    "a = response.dict()\n",
    "\n"
   ]
  },
  {
   "cell_type": "code",
   "execution_count": 27,
   "metadata": {
    "collapsed": false
   },
   "outputs": [],
   "source": [
    "import csv\n",
    "\n",
    "a = response.dict()\n",
    "#a = api.response_dict()\n",
    "with open('output.csv', 'wb') as output:\n",
    "    writer = csv.writer(output)\n",
    "    for key, value in a.iteritems():\n",
    "        writer.writerow([key, value])"
   ]
  },
  {
   "cell_type": "code",
   "execution_count": 21,
   "metadata": {
    "collapsed": false
   },
   "outputs": [],
   "source": [
    "import ebaysdk\n",
    "from ebaysdk import finding\n",
    "\n",
    "api = Finding(config_file='ebay.yaml')\n",
    "\n",
    "api.execute('findItemsAdvanced', {\n",
    "    'keywords': 'laptop',\n",
    "    'categoryId' : ['177', '111422'],\n",
    "    'itemFilter': [\n",
    "        {'name': 'Condition', 'value': 'Used'},\n",
    "        {'name': 'MinPrice', 'value': '200', 'paramName': 'Currency', 'paramValue': 'GBP'},\n",
    "        {'name': 'MaxPrice', 'value': '400', 'paramName': 'Currency', 'paramValue': 'GBP'}\n",
    "    ],\n",
    "    'paginationInput': {\n",
    "        'entriesPerPage': '2',\n",
    "        'pageNumber': '1'\n",
    "    },\n",
    "    'sortOrder': 'CurrentPriceHighest'\n",
    "})\n",
    "\n",
    "dictstr = api.response_dict()\n",
    "#print (dictstr)\n",
    "#for item in dictstr['searchResult']['item']:\n",
    "#    print \"ItemID: %s\" % item['itemId'].value\n",
    "#    print \"Title: %s\" % item['title'].value\n",
    "#    print \"CategoryID: %s\" % item['primaryCategory']['categoryId'].value"
   ]
  },
  {
   "cell_type": "code",
   "execution_count": 86,
   "metadata": {
    "collapsed": false
   },
   "outputs": [
    {
     "name": "stdout",
     "output_type": "stream",
     "text": [
      "             0                                                1        2   \\\n",
      "0  172502470800  Part of a live auction event on Saturday, Feb 4  EBAY-US   \n",
      "1  122286816125                                            false  EBAY-US   \n",
      "\n",
      "                                                  3   4      5   \\\n",
      "0  Historic and Important 1996 Brett Favre Jim Th...  US    465   \n",
      "1  MNF OT WIN Brett Favre Game Worn Used Signed P...  US  86829   \n",
      "\n",
      "                              6      7   \\\n",
      "0  Other Fan Apparel & Souvenirs  false   \n",
      "1                        Jerseys  false   \n",
      "\n",
      "                                                  8      9   \\\n",
      "0  http://thumbs1.ebaystatic.com/m/m5cer43cMsANla...  false   \n",
      "1  http://thumbs2.ebaystatic.com/m/mRxZk8MDcBmKN6...  false   \n",
      "\n",
      "             ...                24      25                     26          27  \\\n",
      "0            ...                 9   Ended  PaymentSeeDescription       false   \n",
      "1            ...             Ended  PayPal                  false  FixedPrice   \n",
      "\n",
      "        28     29                        30                        31  \\\n",
      "0  Auction  false                     false  2017-01-29T12:00:05.000Z   \n",
      "1    false   true  2016-12-28T00:00:25.000Z                     false   \n",
      "\n",
      "                         32                        33  \n",
      "0                     false  2017-02-05T01:48:06.000Z  \n",
      "1  2017-01-27T00:00:25.000Z                      None  \n",
      "\n",
      "[2 rows x 34 columns]\n",
      "-----------------------------------------------------------------------------------------\n"
     ]
    }
   ],
   "source": [
    "import pandas as pd\n",
    "\n",
    "results = response.dict()\n",
    "\n",
    "#print results.keys()\n",
    "search_result = results['searchResult']\n",
    "#print search_result.keys()\n",
    "item = search_result['item']\n",
    "#print type(item)\n",
    "\n",
    "#kind of messy, but goes down the dictionary and flattens it\n",
    "flatdictionary = []\n",
    "lineitem = []\n",
    "\n",
    "for i in item:\n",
    "    #print i\n",
    "    for key,value in i.items():\n",
    "        if type(value) == dict:\n",
    "            for k,v in value.items():\n",
    "                if type(v) == dict:\n",
    "                    for k1,v1 in v.items():\n",
    "                        #print k1,\":\",v1\n",
    "                        lineitem +=[v1]  #should be able to make this recursive\n",
    "                        #print \"Level 3\\n\", lineitem, \"\\n\"\n",
    "                else:\n",
    "                    #print k,\":\",v\n",
    "                    lineitem +=[v]\n",
    "                    #print \"Level 2\\n\", lineitem, \"\\n\"\n",
    "        else:\n",
    "            #print key,\":\",value\n",
    "            lineitem +=[value]\n",
    "            #print \"Level 1\\n\", lineitem, \"\\n\"\n",
    "        \n",
    "    flatdictionary.append(lineitem) #add item to the master list\n",
    "        \n",
    "    #Clear the variable for the next item\n",
    "    lineitem=[]\n",
    "\n",
    "df = pd.DataFrame.from_dict(flatdictionary)\n",
    "print df\n",
    "print \"-----------------------------------------------------------------------------------------\"\n"
   ]
  },
  {
   "cell_type": "code",
   "execution_count": null,
   "metadata": {
    "collapsed": true
   },
   "outputs": [],
   "source": []
  }
 ],
 "metadata": {
  "anaconda-cloud": {},
  "kernelspec": {
   "display_name": "Python [conda root]",
   "language": "python",
   "name": "conda-root-py"
  },
  "language_info": {
   "codemirror_mode": {
    "name": "ipython",
    "version": 2
   },
   "file_extension": ".py",
   "mimetype": "text/x-python",
   "name": "python",
   "nbconvert_exporter": "python",
   "pygments_lexer": "ipython2",
   "version": "2.7.12"
  }
 },
 "nbformat": 4,
 "nbformat_minor": 1
}
